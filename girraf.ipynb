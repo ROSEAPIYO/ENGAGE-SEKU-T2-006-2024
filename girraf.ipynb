{
 "cells": [
  {
   "cell_type": "code",
   "execution_count": 6,
   "id": "a86233fd-1f07-4ac8-a3e1-573ca6d99d70",
   "metadata": {},
   "outputs": [],
   "source": [
    "import pandas as pd\n",
    "import numpy as np\n",
    "from sklearn import linear_model\n",
    "from sklearn.model_selection import train_test_split\n",
    "import matplotlib.pyplot as plt\n",
    "data=pd.read_csv(\"mental_health_expanded_data.csv\")\n"
   ]
  },
  {
   "cell_type": "code",
   "execution_count": 7,
   "id": "b559abbe-f5ba-4da6-a4dd-81f733a3691c",
   "metadata": {},
   "outputs": [
    {
     "data": {
      "text/html": [
       "<div>\n",
       "<style scoped>\n",
       "    .dataframe tbody tr th:only-of-type {\n",
       "        vertical-align: middle;\n",
       "    }\n",
       "\n",
       "    .dataframe tbody tr th {\n",
       "        vertical-align: top;\n",
       "    }\n",
       "\n",
       "    .dataframe thead th {\n",
       "        text-align: right;\n",
       "    }\n",
       "</style>\n",
       "<table border=\"1\" class=\"dataframe\">\n",
       "  <thead>\n",
       "    <tr style=\"text-align: right;\">\n",
       "      <th></th>\n",
       "      <th>age</th>\n",
       "      <th>income</th>\n",
       "      <th>education_level</th>\n",
       "      <th>employment_status</th>\n",
       "      <th>gender</th>\n",
       "      <th>social_media_usage</th>\n",
       "      <th>exercise_frequency</th>\n",
       "      <th>sleep_quality</th>\n",
       "      <th>social_support</th>\n",
       "      <th>marital_status</th>\n",
       "      <th>housing_situation</th>\n",
       "      <th>access_to_mental_health_resources</th>\n",
       "      <th>mental_health_status</th>\n",
       "    </tr>\n",
       "  </thead>\n",
       "  <tbody>\n",
       "    <tr>\n",
       "      <th>0</th>\n",
       "      <td>56</td>\n",
       "      <td>96515</td>\n",
       "      <td>Bachelor</td>\n",
       "      <td>Student</td>\n",
       "      <td>Non-Binary</td>\n",
       "      <td>1</td>\n",
       "      <td>Regular</td>\n",
       "      <td>Average</td>\n",
       "      <td>Moderate</td>\n",
       "      <td>Widowed</td>\n",
       "      <td>Rent</td>\n",
       "      <td>Poor</td>\n",
       "      <td>0</td>\n",
       "    </tr>\n",
       "    <tr>\n",
       "      <th>1</th>\n",
       "      <td>69</td>\n",
       "      <td>92065</td>\n",
       "      <td>Associate</td>\n",
       "      <td>Student</td>\n",
       "      <td>Non-Binary</td>\n",
       "      <td>3</td>\n",
       "      <td>NaN</td>\n",
       "      <td>Good</td>\n",
       "      <td>Low</td>\n",
       "      <td>Divorced</td>\n",
       "      <td>Own</td>\n",
       "      <td>Poor</td>\n",
       "      <td>0</td>\n",
       "    </tr>\n",
       "    <tr>\n",
       "      <th>2</th>\n",
       "      <td>46</td>\n",
       "      <td>70390</td>\n",
       "      <td>Master</td>\n",
       "      <td>Student</td>\n",
       "      <td>Female</td>\n",
       "      <td>1</td>\n",
       "      <td>NaN</td>\n",
       "      <td>Good</td>\n",
       "      <td>Moderate</td>\n",
       "      <td>Single</td>\n",
       "      <td>Own</td>\n",
       "      <td>Moderate</td>\n",
       "      <td>0</td>\n",
       "    </tr>\n",
       "    <tr>\n",
       "      <th>3</th>\n",
       "      <td>32</td>\n",
       "      <td>31645</td>\n",
       "      <td>Master</td>\n",
       "      <td>Retired</td>\n",
       "      <td>Non-Binary</td>\n",
       "      <td>0</td>\n",
       "      <td>Regular</td>\n",
       "      <td>Poor</td>\n",
       "      <td>Low</td>\n",
       "      <td>Married</td>\n",
       "      <td>Homeless</td>\n",
       "      <td>Moderate</td>\n",
       "      <td>0</td>\n",
       "    </tr>\n",
       "    <tr>\n",
       "      <th>4</th>\n",
       "      <td>60</td>\n",
       "      <td>69144</td>\n",
       "      <td>Associate</td>\n",
       "      <td>Employed</td>\n",
       "      <td>Male</td>\n",
       "      <td>3</td>\n",
       "      <td>Regular</td>\n",
       "      <td>Good</td>\n",
       "      <td>Moderate</td>\n",
       "      <td>Divorced</td>\n",
       "      <td>Own</td>\n",
       "      <td>Moderate</td>\n",
       "      <td>0</td>\n",
       "    </tr>\n",
       "  </tbody>\n",
       "</table>\n",
       "</div>"
      ],
      "text/plain": [
       "   age  income education_level employment_status      gender  \\\n",
       "0   56   96515        Bachelor           Student  Non-Binary   \n",
       "1   69   92065       Associate           Student  Non-Binary   \n",
       "2   46   70390          Master           Student      Female   \n",
       "3   32   31645          Master           Retired  Non-Binary   \n",
       "4   60   69144       Associate          Employed        Male   \n",
       "\n",
       "   social_media_usage exercise_frequency sleep_quality social_support  \\\n",
       "0                   1            Regular       Average       Moderate   \n",
       "1                   3                NaN          Good            Low   \n",
       "2                   1                NaN          Good       Moderate   \n",
       "3                   0            Regular          Poor            Low   \n",
       "4                   3            Regular          Good       Moderate   \n",
       "\n",
       "  marital_status housing_situation access_to_mental_health_resources  \\\n",
       "0        Widowed              Rent                              Poor   \n",
       "1       Divorced               Own                              Poor   \n",
       "2         Single               Own                          Moderate   \n",
       "3        Married          Homeless                          Moderate   \n",
       "4       Divorced               Own                          Moderate   \n",
       "\n",
       "   mental_health_status  \n",
       "0                     0  \n",
       "1                     0  \n",
       "2                     0  \n",
       "3                     0  \n",
       "4                     0  "
      ]
     },
     "execution_count": 7,
     "metadata": {},
     "output_type": "execute_result"
    }
   ],
   "source": [
    "data.head()"
   ]
  },
  {
   "cell_type": "code",
   "execution_count": 8,
   "id": "70aab20c-be07-4ea1-8e30-730bafad6032",
   "metadata": {},
   "outputs": [
    {
     "data": {
      "text/plain": [
       "age                                     0\n",
       "income                                  0\n",
       "education_level                         0\n",
       "employment_status                       0\n",
       "gender                                  0\n",
       "social_media_usage                      0\n",
       "exercise_frequency                   3463\n",
       "sleep_quality                           0\n",
       "social_support                          0\n",
       "marital_status                          0\n",
       "housing_situation                       0\n",
       "access_to_mental_health_resources       0\n",
       "mental_health_status                    0\n",
       "dtype: int64"
      ]
     },
     "execution_count": 8,
     "metadata": {},
     "output_type": "execute_result"
    }
   ],
   "source": [
    "data.isnull().sum()"
   ]
  },
  {
   "cell_type": "code",
   "execution_count": 9,
   "id": "66a151ff-4e9c-46fd-8b52-46ef2f305bb3",
   "metadata": {},
   "outputs": [],
   "source": [
    "data.dropna(inplace=True)"
   ]
  },
  {
   "cell_type": "code",
   "execution_count": 10,
   "id": "9e07bed6-d413-45da-8420-d970f25de2ab",
   "metadata": {},
   "outputs": [
    {
     "data": {
      "text/plain": [
       "(6820, 13)"
      ]
     },
     "execution_count": 10,
     "metadata": {},
     "output_type": "execute_result"
    }
   ],
   "source": [
    "data.shape"
   ]
  },
  {
   "cell_type": "code",
   "execution_count": 11,
   "id": "b1a695df-052d-44fe-82b2-0b19f045b8c3",
   "metadata": {},
   "outputs": [
    {
     "data": {
      "image/png": "[encoded data removed]",
      "text/plain": [
       "<Figure size 640x480 with 1 Axes>"
      ]
     },
     "metadata": {},
     "output_type": "display_data"
    }
   ],
   "source": [
    "data.plot(kind='scatter', x=\"mental_health_status\", y=\"age\", s=32, alpha=.8)\n",
    "plt.gca().spines[['top', 'right',]].set_visible(False)"
   ]
  },
  {
   "cell_type": "code",
   "execution_count": 12,
   "id": "1397ced6-f39b-4cab-9071-1fdc124d8c7e",
   "metadata": {},
   "outputs": [
    {
     "data": {
      "text/plain": [
       "age                                  0\n",
       "income                               0\n",
       "education_level                      0\n",
       "employment_status                    0\n",
       "gender                               0\n",
       "social_media_usage                   0\n",
       "exercise_frequency                   0\n",
       "sleep_quality                        0\n",
       "social_support                       0\n",
       "marital_status                       0\n",
       "housing_situation                    0\n",
       "access_to_mental_health_resources    0\n",
       "mental_health_status                 0\n",
       "dtype: int64"
      ]
     },
     "execution_count": 12,
     "metadata": {},
     "output_type": "execute_result"
    }
   ],
   "source": [
    "data.isnull().sum()"
   ]
  },
  {
   "cell_type": "code",
   "execution_count": 13,
   "id": "3a2025bf-4719-41f0-8f09-517e72099533",
   "metadata": {},
   "outputs": [],
   "source": [
    "x=data[[\"mental_health_status\"]]\n",
    "y=data[[\"age\"]]"
   ]
  },
  {
   "cell_type": "code",
   "execution_count": 14,
   "id": "4086a803-f2f9-4e61-a799-7d8ca75b2356",
   "metadata": {},
   "outputs": [
    {
     "data": {
      "text/html": [
       "<div>\n",
       "<style scoped>\n",
       "    .dataframe tbody tr th:only-of-type {\n",
       "        vertical-align: middle;\n",
       "    }\n",
       "\n",
       "    .dataframe tbody tr th {\n",
       "        vertical-align: top;\n",
       "    }\n",
       "\n",
       "    .dataframe thead th {\n",
       "        text-align: right;\n",
       "    }\n",
       "</style>\n",
       "<table border=\"1\" class=\"dataframe\">\n",
       "  <thead>\n",
       "    <tr style=\"text-align: right;\">\n",
       "      <th></th>\n",
       "      <th>age</th>\n",
       "      <th>income</th>\n",
       "      <th>education_level</th>\n",
       "      <th>employment_status</th>\n",
       "      <th>gender</th>\n",
       "      <th>social_media_usage</th>\n",
       "      <th>exercise_frequency</th>\n",
       "      <th>sleep_quality</th>\n",
       "      <th>social_support</th>\n",
       "      <th>marital_status</th>\n",
       "      <th>housing_situation</th>\n",
       "      <th>access_to_mental_health_resources</th>\n",
       "      <th>mental_health_status</th>\n",
       "    </tr>\n",
       "  </thead>\n",
       "  <tbody>\n",
       "    <tr>\n",
       "      <th>0</th>\n",
       "      <td>56</td>\n",
       "      <td>96515</td>\n",
       "      <td>Bachelor</td>\n",
       "      <td>Student</td>\n",
       "      <td>Non-Binary</td>\n",
       "      <td>1</td>\n",
       "      <td>Regular</td>\n",
       "      <td>Average</td>\n",
       "      <td>Moderate</td>\n",
       "      <td>Widowed</td>\n",
       "      <td>Rent</td>\n",
       "      <td>Poor</td>\n",
       "      <td>0</td>\n",
       "    </tr>\n",
       "    <tr>\n",
       "      <th>1</th>\n",
       "      <td>69</td>\n",
       "      <td>92065</td>\n",
       "      <td>Associate</td>\n",
       "      <td>Student</td>\n",
       "      <td>Non-Binary</td>\n",
       "      <td>3</td>\n",
       "      <td>NaN</td>\n",
       "      <td>Good</td>\n",
       "      <td>Low</td>\n",
       "      <td>Divorced</td>\n",
       "      <td>Own</td>\n",
       "      <td>Poor</td>\n",
       "      <td>0</td>\n",
       "    </tr>\n",
       "    <tr>\n",
       "      <th>2</th>\n",
       "      <td>46</td>\n",
       "      <td>70390</td>\n",
       "      <td>Master</td>\n",
       "      <td>Student</td>\n",
       "      <td>Female</td>\n",
       "      <td>1</td>\n",
       "      <td>NaN</td>\n",
       "      <td>Good</td>\n",
       "      <td>Moderate</td>\n",
       "      <td>Single</td>\n",
       "      <td>Own</td>\n",
       "      <td>Moderate</td>\n",
       "      <td>0</td>\n",
       "    </tr>\n",
       "    <tr>\n",
       "      <th>3</th>\n",
       "      <td>32</td>\n",
       "      <td>31645</td>\n",
       "      <td>Master</td>\n",
       "      <td>Retired</td>\n",
       "      <td>Non-Binary</td>\n",
       "      <td>0</td>\n",
       "      <td>Regular</td>\n",
       "      <td>Poor</td>\n",
       "      <td>Low</td>\n",
       "      <td>Married</td>\n",
       "      <td>Homeless</td>\n",
       "      <td>Moderate</td>\n",
       "      <td>0</td>\n",
       "    </tr>\n",
       "    <tr>\n",
       "      <th>4</th>\n",
       "      <td>60</td>\n",
       "      <td>69144</td>\n",
       "      <td>Associate</td>\n",
       "      <td>Employed</td>\n",
       "      <td>Male</td>\n",
       "      <td>3</td>\n",
       "      <td>Regular</td>\n",
       "      <td>Good</td>\n",
       "      <td>Moderate</td>\n",
       "      <td>Divorced</td>\n",
       "      <td>Own</td>\n",
       "      <td>Moderate</td>\n",
       "      <td>0</td>\n",
       "    </tr>\n",
       "  </tbody>\n",
       "</table>\n",
       "</div>"
      ],
      "text/plain": [
       "   age  income education_level employment_status      gender  \\\n",
       "0   56   96515        Bachelor           Student  Non-Binary   \n",
       "1   69   92065       Associate           Student  Non-Binary   \n",
       "2   46   70390          Master           Student      Female   \n",
       "3   32   31645          Master           Retired  Non-Binary   \n",
       "4   60   69144       Associate          Employed        Male   \n",
       "\n",
       "   social_media_usage exercise_frequency sleep_quality social_support  \\\n",
       "0                   1            Regular       Average       Moderate   \n",
       "1                   3                NaN          Good            Low   \n",
       "2                   1                NaN          Good       Moderate   \n",
       "3                   0            Regular          Poor            Low   \n",
       "4                   3            Regular          Good       Moderate   \n",
       "\n",
       "  marital_status housing_situation access_to_mental_health_resources  \\\n",
       "0        Widowed              Rent                              Poor   \n",
       "1       Divorced               Own                              Poor   \n",
       "2         Single               Own                          Moderate   \n",
       "3        Married          Homeless                          Moderate   \n",
       "4       Divorced               Own                          Moderate   \n",
       "\n",
       "   mental_health_status  \n",
       "0                     0  \n",
       "1                     0  \n",
       "2                     0  \n",
       "3                     0  \n",
       "4                     0  "
      ]
     },
     "execution_count": 14,
     "metadata": {},
     "output_type": "execute_result"
    }
   ],
   "source": [
    "data_multi=pd.read_csv(\"mental_health_expanded_data.csv\")\n",
    "#displaying the first five rows\n",
    "data_multi.head()"
   ]
  },
  {
   "cell_type": "code",
   "execution_count": 15,
   "id": "fad3347e-618a-44c6-b111-92e139fa3536",
   "metadata": {},
   "outputs": [
    {
     "data": {
      "text/plain": [
       "Index(['age', 'income', 'education_level', 'employment_status', 'gender',\n",
       "       'social_media_usage', 'exercise_frequency', 'sleep_quality',\n",
       "       'social_support', 'marital_status', 'housing_situation',\n",
       "       'access_to_mental_health_resources', 'mental_health_status'],\n",
       "      dtype='object')"
      ]
     },
     "execution_count": 15,
     "metadata": {},
     "output_type": "execute_result"
    }
   ],
   "source": [
    "data.columns"
   ]
  },
  {
   "cell_type": "code",
   "execution_count": 48,
   "id": "d39ed892-9ca4-4298-9f77-b8ebeca12fab",
   "metadata": {},
   "outputs": [
    {
     "ename": "SyntaxError",
     "evalue": "unterminated string literal (detected at line 3) (1783707128.py, line 3)",
     "output_type": "error",
     "traceback": [
      "\u001b[1;36m  Cell \u001b[1;32mIn[48], line 3\u001b[1;36m\u001b[0m\n\u001b[1;33m    data['education_encoded'] = ordinal_encoder.fit_transform(data[['education_level']])\", \"employment_status\",\"gender\",\u001b[0m\n\u001b[1;37m                                                                                                                      ^\u001b[0m\n\u001b[1;31mSyntaxError\u001b[0m\u001b[1;31m:\u001b[0m unterminated string literal (detected at line 3)\n"
     ]
    }
   ],
   "source": [
    "data=data_multi[[\"age\",\"income\",\"education_order\" = ['High School', 'Bachelors', 'Master', 'Doctorate']\n",
    "ordinal_encoder = OrdinalEncoder(categories=[education_order])\n",
    "data['education_encoded'] = ordinal_encoder.fit_transform(data[['education_level']])\", \"employment_status\",\"gender\",\n",
    "       \"social_media_usage\",\"exercise_frequency\", \"sleep_quality\",\n",
    "       \"social_support\",\"marital_status\",\"housing_situation\",\n",
    "       \"access_to_mental_health_resources\",\"mental_health_status\"]]\n",
    "data.head()"
   ]
  },
  {
   "cell_type": "code",
   "execution_count": 17,
   "id": "8550ff84-9e28-4256-a5ca-df5ed6e207a1",
   "metadata": {},
   "outputs": [
    {
     "data": {
      "text/plain": [
       "age                                  0\n",
       "income                               0\n",
       "education_level                      0\n",
       "employment_status                    0\n",
       "gender                               0\n",
       "social_media_usage                   0\n",
       "exercise_frequency                   0\n",
       "sleep_quality                        0\n",
       "social_support                       0\n",
       "marital_status                       0\n",
       "housing_situation                    0\n",
       "access_to_mental_health_resources    0\n",
       "mental_health_status                 0\n",
       "dtype: int64"
      ]
     },
     "execution_count": 17,
     "metadata": {},
     "output_type": "execute_result"
    }
   ],
   "source": [
    "data.isnull().sum()"
   ]
  },
  {
   "cell_type": "code",
   "execution_count": 18,
   "id": "6bfd1c7c-a1ee-4866-9c8c-1e7c55f02a7d",
   "metadata": {},
   "outputs": [],
   "source": [
    "data.dropna(inplace=True)"
   ]
  },
  {
   "cell_type": "code",
   "execution_count": 19,
   "id": "9078a6e7-63be-42bf-8709-8bdba25888b8",
   "metadata": {},
   "outputs": [
    {
     "data": {
      "text/plain": [
       "age                                  0\n",
       "income                               0\n",
       "education_level                      0\n",
       "employment_status                    0\n",
       "gender                               0\n",
       "social_media_usage                   0\n",
       "exercise_frequency                   0\n",
       "sleep_quality                        0\n",
       "social_support                       0\n",
       "marital_status                       0\n",
       "housing_situation                    0\n",
       "access_to_mental_health_resources    0\n",
       "mental_health_status                 0\n",
       "dtype: int64"
      ]
     },
     "execution_count": 19,
     "metadata": {},
     "output_type": "execute_result"
    }
   ],
   "source": [
    "data.isnull().sum()"
   ]
  },
  {
   "cell_type": "code",
   "execution_count": 20,
   "id": "3eefe90c-ec03-4851-b7af-14780dba51c0",
   "metadata": {},
   "outputs": [
    {
     "name": "stdout",
     "output_type": "stream",
     "text": [
      "<class 'pandas.core.frame.DataFrame'>\n",
      "Index: 6820 entries, 0 to 10279\n",
      "Data columns (total 13 columns):\n",
      " #   Column                             Non-Null Count  Dtype \n",
      "---  ------                             --------------  ----- \n",
      " 0   age                                6820 non-null   int64 \n",
      " 1   income                             6820 non-null   int64 \n",
      " 2   education_level                    6820 non-null   object\n",
      " 3   employment_status                  6820 non-null   object\n",
      " 4   gender                             6820 non-null   object\n",
      " 5   social_media_usage                 6820 non-null   int64 \n",
      " 6   exercise_frequency                 6820 non-null   object\n",
      " 7   sleep_quality                      6820 non-null   object\n",
      " 8   social_support                     6820 non-null   object\n",
      " 9   marital_status                     6820 non-null   object\n",
      " 10  housing_situation                  6820 non-null   object\n",
      " 11  access_to_mental_health_resources  6820 non-null   object\n",
      " 12  mental_health_status               6820 non-null   int64 \n",
      "dtypes: int64(4), object(9)\n",
      "memory usage: 745.9+ KB\n",
      "<class 'pandas.core.frame.DataFrame'>\n",
      "Index: 6820 entries, 0 to 10279\n",
      "Data columns (total 13 columns):\n",
      " #   Column                             Non-Null Count  Dtype \n",
      "---  ------                             --------------  ----- \n",
      " 0   age                                6820 non-null   int64 \n",
      " 1   income                             6820 non-null   int64 \n",
      " 2   education_level                    6820 non-null   object\n",
      " 3   employment_status                  6820 non-null   object\n",
      " 4   gender                             6820 non-null   object\n",
      " 5   social_media_usage                 6820 non-null   int64 \n",
      " 6   exercise_frequency                 6820 non-null   object\n",
      " 7   sleep_quality                      6820 non-null   object\n",
      " 8   social_support                     6820 non-null   object\n",
      " 9   marital_status                     6820 non-null   object\n",
      " 10  housing_situation                  6820 non-null   object\n",
      " 11  access_to_mental_health_resources  6820 non-null   object\n",
      " 12  mental_health_status               6820 non-null   int64 \n",
      "dtypes: int64(4), object(9)\n",
      "memory usage: 745.9+ KB\n"
     ]
    }
   ],
   "source": [
    "data[\"mental_health_status\"]=pd.to_numeric(data[\"mental_health_status\"],errors='coerce')\n",
    "df_cleaned=data.dropna(subset=\"mental_health_status\")\n",
    "data.info()\n",
    "df_cleaned.info()\n"
   ]
  },
  {
   "cell_type": "code",
   "execution_count": 21,
   "id": "9dd19308-801a-4b2e-afa1-0d4a8d8b7d09",
   "metadata": {},
   "outputs": [
    {
     "name": "stdout",
     "output_type": "stream",
     "text": [
      "<class 'pandas.core.frame.DataFrame'>\n",
      "Index: 6820 entries, 0 to 10279\n",
      "Data columns (total 13 columns):\n",
      " #   Column                             Non-Null Count  Dtype \n",
      "---  ------                             --------------  ----- \n",
      " 0   age                                6820 non-null   int64 \n",
      " 1   income                             6820 non-null   int64 \n",
      " 2   education_level                    6820 non-null   object\n",
      " 3   employment_status                  6820 non-null   object\n",
      " 4   gender                             6820 non-null   object\n",
      " 5   social_media_usage                 6820 non-null   int64 \n",
      " 6   exercise_frequency                 6820 non-null   object\n",
      " 7   sleep_quality                      6820 non-null   object\n",
      " 8   social_support                     6820 non-null   object\n",
      " 9   marital_status                     6820 non-null   object\n",
      " 10  housing_situation                  6820 non-null   object\n",
      " 11  access_to_mental_health_resources  6820 non-null   object\n",
      " 12  mental_health_status               6820 non-null   int64 \n",
      "dtypes: int64(4), object(9)\n",
      "memory usage: 745.9+ KB\n"
     ]
    }
   ],
   "source": [
    "data.info()"
   ]
  },
  {
   "cell_type": "code",
   "execution_count": 22,
   "id": "579d9aec-9b00-47bb-a893-f5456646f9c9",
   "metadata": {},
   "outputs": [
    {
     "data": {
      "image/png": "[encoded data removed]",
      "text/plain": [
       "<Figure size 800x400 with 1 Axes>"
      ]
     },
     "metadata": {},
     "output_type": "display_data"
    }
   ],
   "source": [
    "from matplotlib import pyplot as plt\n",
    "df_cleaned[\"mental_health_status\"].plot(kind=\"line\", figsize=(8, 4), title=\"mental_health_status\")\n",
    "plt.gca().spines[['top', 'right']].set_visible(False)"
   ]
  },
  {
   "cell_type": "code",
   "execution_count": 23,
   "id": "7477cbbd-9696-42be-afa5-ccd2909cb313",
   "metadata": {},
   "outputs": [
    {
     "data": {
      "text/plain": [
       "(6820, 13)"
      ]
     },
     "execution_count": 23,
     "metadata": {},
     "output_type": "execute_result"
    }
   ],
   "source": [
    "import pandas as pd\n",
    "data.shape"
   ]
  },
  {
   "cell_type": "code",
   "execution_count": 24,
   "id": "2af08fd3-2a97-4529-a465-4418d9f7acb2",
   "metadata": {},
   "outputs": [
    {
     "data": {
      "text/html": [
       "<div>\n",
       "<style scoped>\n",
       "    .dataframe tbody tr th:only-of-type {\n",
       "        vertical-align: middle;\n",
       "    }\n",
       "\n",
       "    .dataframe tbody tr th {\n",
       "        vertical-align: top;\n",
       "    }\n",
       "\n",
       "    .dataframe thead th {\n",
       "        text-align: right;\n",
       "    }\n",
       "</style>\n",
       "<table border=\"1\" class=\"dataframe\">\n",
       "  <thead>\n",
       "    <tr style=\"text-align: right;\">\n",
       "      <th></th>\n",
       "      <th>age</th>\n",
       "      <th>income</th>\n",
       "      <th>social_media_usage</th>\n",
       "      <th>mental_health_status</th>\n",
       "    </tr>\n",
       "  </thead>\n",
       "  <tbody>\n",
       "    <tr>\n",
       "      <th>count</th>\n",
       "      <td>6820.000000</td>\n",
       "      <td>6820.000000</td>\n",
       "      <td>6820.000000</td>\n",
       "      <td>6820.000000</td>\n",
       "    </tr>\n",
       "    <tr>\n",
       "      <th>mean</th>\n",
       "      <td>48.941349</td>\n",
       "      <td>57143.066422</td>\n",
       "      <td>3.508358</td>\n",
       "      <td>0.521408</td>\n",
       "    </tr>\n",
       "    <tr>\n",
       "      <th>std</th>\n",
       "      <td>17.938050</td>\n",
       "      <td>24572.744746</td>\n",
       "      <td>2.270481</td>\n",
       "      <td>0.499578</td>\n",
       "    </tr>\n",
       "    <tr>\n",
       "      <th>min</th>\n",
       "      <td>18.000000</td>\n",
       "      <td>15015.000000</td>\n",
       "      <td>0.000000</td>\n",
       "      <td>0.000000</td>\n",
       "    </tr>\n",
       "    <tr>\n",
       "      <th>25%</th>\n",
       "      <td>34.000000</td>\n",
       "      <td>35719.000000</td>\n",
       "      <td>2.000000</td>\n",
       "      <td>0.000000</td>\n",
       "    </tr>\n",
       "    <tr>\n",
       "      <th>50%</th>\n",
       "      <td>49.000000</td>\n",
       "      <td>57258.000000</td>\n",
       "      <td>4.000000</td>\n",
       "      <td>1.000000</td>\n",
       "    </tr>\n",
       "    <tr>\n",
       "      <th>75%</th>\n",
       "      <td>65.000000</td>\n",
       "      <td>78358.750000</td>\n",
       "      <td>5.000000</td>\n",
       "      <td>1.000000</td>\n",
       "    </tr>\n",
       "    <tr>\n",
       "      <th>max</th>\n",
       "      <td>79.000000</td>\n",
       "      <td>99983.000000</td>\n",
       "      <td>7.000000</td>\n",
       "      <td>1.000000</td>\n",
       "    </tr>\n",
       "  </tbody>\n",
       "</table>\n",
       "</div>"
      ],
      "text/plain": [
       "               age        income  social_media_usage  mental_health_status\n",
       "count  6820.000000   6820.000000         6820.000000           6820.000000\n",
       "mean     48.941349  57143.066422            3.508358              0.521408\n",
       "std      17.938050  24572.744746            2.270481              0.499578\n",
       "min      18.000000  15015.000000            0.000000              0.000000\n",
       "25%      34.000000  35719.000000            2.000000              0.000000\n",
       "50%      49.000000  57258.000000            4.000000              1.000000\n",
       "75%      65.000000  78358.750000            5.000000              1.000000\n",
       "max      79.000000  99983.000000            7.000000              1.000000"
      ]
     },
     "execution_count": 24,
     "metadata": {},
     "output_type": "execute_result"
    }
   ],
   "source": [
    "data.describe()"
   ]
  },
  {
   "cell_type": "code",
   "execution_count": 25,
   "id": "fefa2dfb-388f-4705-ba0f-e0d7c2fb992a",
   "metadata": {},
   "outputs": [],
   "source": [
    "data['gender_encoded'] = data['gender'].map({'Male': 1, 'Female': 0, 'Non-Binary':2})"
   ]
  },
  {
   "cell_type": "code",
   "execution_count": 26,
   "id": "51663755-1e95-4456-b95f-9dc231354415",
   "metadata": {},
   "outputs": [],
   "source": [
    "data = pd.get_dummies(data, columns=['employment_status'])"
   ]
  },
  {
   "cell_type": "code",
   "execution_count": 33,
   "id": "c05fd400-8983-40e5-84f7-539d93283d94",
   "metadata": {},
   "outputs": [],
   "source": [
    "from sklearn.model_selection import train_test_split\n",
    "from sklearn.preprocessing import StandardScaler\n",
    "from sklearn.linear_model import LogisticRegression\n",
    "from sklearn.metrics import classification_report, confusion_matrix\n",
    "\n"
   ]
  },
  {
   "cell_type": "code",
   "execution_count": 36,
   "id": "ddc7b655-859a-493e-97dd-06e66b9cf89a",
   "metadata": {},
   "outputs": [],
   "source": [
    "X = data_encoded.drop(columns=['target', 'education_level'])\n",
    "y = data_encoded['target']\n"
   ]
  },
  {
   "cell_type": "code",
   "execution_count": 37,
   "id": "8bf0e6db-56df-428c-8645-073a8d3d9621",
   "metadata": {},
   "outputs": [],
   "source": [
    "scaler = StandardScaler()\n",
    "X_scaled = scaler.fit_transform(X)\n"
   ]
  },
  {
   "cell_type": "code",
   "execution_count": 38,
   "id": "2a728fe2-d211-49b0-ac95-00dc61324d84",
   "metadata": {},
   "outputs": [],
   "source": [
    "X_train, X_test, y_train, y_test = train_test_split(X_scaled, y, test_size=0.3, random_state=42)"
   ]
  },
  {
   "cell_type": "code",
   "execution_count": 39,
   "id": "76aa1eda-c213-4df0-b685-33a2651349f3",
   "metadata": {},
   "outputs": [
    {
     "data": {
      "text/html": [
       "<style>#sk-container-id-1 {color: black;background-color: white;}#sk-container-id-1 pre{padding: 0;}#sk-container-id-1 div.sk-toggleable {background-color: white;}#sk-container-id-1 label.sk-toggleable__label {cursor: pointer;display: block;width: 100%;margin-bottom: 0;padding: 0.3em;box-sizing: border-box;text-align: center;}#sk-container-id-1 label.sk-toggleable__label-arrow:before {content: \"▸\";float: left;margin-right: 0.25em;color: #696969;}#sk-container-id-1 label.sk-toggleable__label-arrow:hover:before {color: black;}#sk-container-id-1 div.sk-estimator:hover label.sk-toggleable__label-arrow:before {color: black;}#sk-container-id-1 div.sk-toggleable__content {max-height: 0;max-width: 0;overflow: hidden;text-align: left;background-color: #f0f8ff;}#sk-container-id-1 div.sk-toggleable__content pre {margin: 0.2em;color: black;border-radius: 0.25em;background-color: #f0f8ff;}#sk-container-id-1 input.sk-toggleable__control:checked~div.sk-toggleable__content {max-height: 200px;max-width: 100%;overflow: auto;}#sk-container-id-1 input.sk-toggleable__control:checked~label.sk-toggleable__label-arrow:before {content: \"▾\";}#sk-container-id-1 div.sk-estimator input.sk-toggleable__control:checked~label.sk-toggleable__label {background-color: #d4ebff;}#sk-container-id-1 div.sk-label input.sk-toggleable__control:checked~label.sk-toggleable__label {background-color: #d4ebff;}#sk-container-id-1 input.sk-hidden--visually {border: 0;clip: rect(1px 1px 1px 1px);clip: rect(1px, 1px, 1px, 1px);height: 1px;margin: -1px;overflow: hidden;padding: 0;position: absolute;width: 1px;}#sk-container-id-1 div.sk-estimator {font-family: monospace;background-color: #f0f8ff;border: 1px dotted black;border-radius: 0.25em;box-sizing: border-box;margin-bottom: 0.5em;}#sk-container-id-1 div.sk-estimator:hover {background-color: #d4ebff;}#sk-container-id-1 div.sk-parallel-item::after {content: \"\";width: 100%;border-bottom: 1px solid gray;flex-grow: 1;}#sk-container-id-1 div.sk-label:hover label.sk-toggleable__label {background-color: #d4ebff;}#sk-container-id-1 div.sk-serial::before {content: \"\";position: absolute;border-left: 1px solid gray;box-sizing: border-box;top: 0;bottom: 0;left: 50%;z-index: 0;}#sk-container-id-1 div.sk-serial {display: flex;flex-direction: column;align-items: center;background-color: white;padding-right: 0.2em;padding-left: 0.2em;position: relative;}#sk-container-id-1 div.sk-item {position: relative;z-index: 1;}#sk-container-id-1 div.sk-parallel {display: flex;align-items: stretch;justify-content: center;background-color: white;position: relative;}#sk-container-id-1 div.sk-item::before, #sk-container-id-1 div.sk-parallel-item::before {content: \"\";position: absolute;border-left: 1px solid gray;box-sizing: border-box;top: 0;bottom: 0;left: 50%;z-index: -1;}#sk-container-id-1 div.sk-parallel-item {display: flex;flex-direction: column;z-index: 1;position: relative;background-color: white;}#sk-container-id-1 div.sk-parallel-item:first-child::after {align-self: flex-end;width: 50%;}#sk-container-id-1 div.sk-parallel-item:last-child::after {align-self: flex-start;width: 50%;}#sk-container-id-1 div.sk-parallel-item:only-child::after {width: 0;}#sk-container-id-1 div.sk-dashed-wrapped {border: 1px dashed gray;margin: 0 0.4em 0.5em 0.4em;box-sizing: border-box;padding-bottom: 0.4em;background-color: white;}#sk-container-id-1 div.sk-label label {font-family: monospace;font-weight: bold;display: inline-block;line-height: 1.2em;}#sk-container-id-1 div.sk-label-container {text-align: center;}#sk-container-id-1 div.sk-container {/* jupyter's `normalize.less` sets `[hidden] { display: none; }` but bootstrap.min.css set `[hidden] { display: none !important; }` so we also need the `!important` here to be able to override the default hidden behavior on the sphinx rendered scikit-learn.org. See: https://github.com/scikit-learn/scikit-learn/issues/21755 */display: inline-block !important;position: relative;}#sk-container-id-1 div.sk-text-repr-fallback {display: none;}</style><div id=\"sk-container-id-1\" class=\"sk-top-container\"><div class=\"sk-text-repr-fallback\"><pre>LogisticRegression(multi_class=&#x27;multinomial&#x27;)</pre><b>In a Jupyter environment, please rerun this cell to show the HTML representation or trust the notebook. <br />On GitHub, the HTML representation is unable to render, please try loading this page with nbviewer.org.</b></div><div class=\"sk-container\" hidden><div class=\"sk-item\"><div class=\"sk-estimator sk-toggleable\"><input class=\"sk-toggleable__control sk-hidden--visually\" id=\"sk-estimator-id-1\" type=\"checkbox\" checked><label for=\"sk-estimator-id-1\" class=\"sk-toggleable__label sk-toggleable__label-arrow\">LogisticRegression</label><div class=\"sk-toggleable__content\"><pre>LogisticRegression(multi_class=&#x27;multinomial&#x27;)</pre></div></div></div></div></div>"
      ],
      "text/plain": [
       "LogisticRegression(multi_class='multinomial')"
      ]
     },
     "execution_count": 39,
     "metadata": {},
     "output_type": "execute_result"
    }
   ],
   "source": [
    "model = LogisticRegression(multi_class='multinomial', solver='lbfgs')\n",
    "model.fit(X_train, y_train)"
   ]
  },
  {
   "cell_type": "code",
   "execution_count": 40,
   "id": "77b4b6e8-6de0-4262-ada8-02a7dbcc0dee",
   "metadata": {},
   "outputs": [],
   "source": [
    "y_pred = model.predict(X_test)"
   ]
  },
  {
   "cell_type": "code",
   "execution_count": 41,
   "id": "19aff78c-971d-430f-a881-0730083a4fdf",
   "metadata": {},
   "outputs": [
    {
     "name": "stdout",
     "output_type": "stream",
     "text": [
      "[[1 0]\n",
      " [0 1]]\n",
      "              precision    recall  f1-score   support\n",
      "\n",
      "      Class1       1.00      1.00      1.00         1\n",
      "      Class2       1.00      1.00      1.00         1\n",
      "\n",
      "    accuracy                           1.00         2\n",
      "   macro avg       1.00      1.00      1.00         2\n",
      "weighted avg       1.00      1.00      1.00         2\n",
      "\n"
     ]
    }
   ],
   "source": [
    "print(confusion_matrix(y_test, y_pred))\n",
    "print(classification_report(y_test, y_pred))"
   ]
  },
  {
   "cell_type": "code",
   "execution_count": 44,
   "id": "7a9e92ee-cfef-4e9b-93c3-c55502e23a7a",
   "metadata": {},
   "outputs": [
    {
     "data": {
      "text/plain": [
       "(10283, 13)"
      ]
     },
     "execution_count": 44,
     "metadata": {},
     "output_type": "execute_result"
    }
   ],
   "source": [
    "data.shape"
   ]
  },
  {
   "cell_type": "code",
   "execution_count": null,
   "id": "a06288ef-417d-4180-84f7-9a3a13a90afa",
   "metadata": {},
   "outputs": [],
   "source": []
  },
  {
   "cell_type": "code",
   "execution_count": null,
   "id": "0cd517c2-08e2-4b3f-9c6d-c789070f0ae3",
   "metadata": {},
   "outputs": [],
   "source": []
  }
 ],
 "metadata": {
  "kernelspec": {
   "display_name": "Python 3 (ipykernel)",
   "language": "python",
   "name": "python3"
  },
  "language_info": {
   "codemirror_mode": {
    "name": "ipython",
    "version": 3
   },
   "file_extension": ".py",
   "mimetype": "text/x-python",
   "name": "python",
   "nbconvert_exporter": "python",
   "pygments_lexer": "ipython3",
   "version": "3.11.7"
  }
 },
 "nbformat": 4,
 "nbformat_minor": 5
}
