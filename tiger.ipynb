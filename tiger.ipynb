{
 "cells": [
  {
   "cell_type": "code",
   "execution_count": 54,
   "id": "da2fab98-6286-4b0f-a557-f5d28adf4f9e",
   "metadata": {},
   "outputs": [
    {
     "data": {
      "text/html": [
       "<div>\n",
       "<style scoped>\n",
       "    .dataframe tbody tr th:only-of-type {\n",
       "        vertical-align: middle;\n",
       "    }\n",
       "\n",
       "    .dataframe tbody tr th {\n",
       "        vertical-align: top;\n",
       "    }\n",
       "\n",
       "    .dataframe thead th {\n",
       "        text-align: right;\n",
       "    }\n",
       "</style>\n",
       "<table border=\"1\" class=\"dataframe\">\n",
       "  <thead>\n",
       "    <tr style=\"text-align: right;\">\n",
       "      <th></th>\n",
       "      <th>age</th>\n",
       "      <th>income</th>\n",
       "      <th>education_level</th>\n",
       "      <th>employment_status</th>\n",
       "      <th>gender</th>\n",
       "      <th>social_media_usage</th>\n",
       "      <th>exercise_frequency</th>\n",
       "      <th>sleep_quality</th>\n",
       "      <th>social_support</th>\n",
       "      <th>marital_status</th>\n",
       "      <th>housing_situation</th>\n",
       "      <th>access_to_mental_health_resources</th>\n",
       "      <th>mental_health_status</th>\n",
       "    </tr>\n",
       "  </thead>\n",
       "  <tbody>\n",
       "    <tr>\n",
       "      <th>0</th>\n",
       "      <td>56</td>\n",
       "      <td>96515</td>\n",
       "      <td>Bachelor</td>\n",
       "      <td>Student</td>\n",
       "      <td>Non-Binary</td>\n",
       "      <td>1</td>\n",
       "      <td>Regular</td>\n",
       "      <td>Average</td>\n",
       "      <td>Moderate</td>\n",
       "      <td>Widowed</td>\n",
       "      <td>Rent</td>\n",
       "      <td>Poor</td>\n",
       "      <td>0</td>\n",
       "    </tr>\n",
       "    <tr>\n",
       "      <th>1</th>\n",
       "      <td>32</td>\n",
       "      <td>31645</td>\n",
       "      <td>Master</td>\n",
       "      <td>Retired</td>\n",
       "      <td>Non-Binary</td>\n",
       "      <td>0</td>\n",
       "      <td>Regular</td>\n",
       "      <td>Poor</td>\n",
       "      <td>Low</td>\n",
       "      <td>Married</td>\n",
       "      <td>Homeless</td>\n",
       "      <td>Moderate</td>\n",
       "      <td>0</td>\n",
       "    </tr>\n",
       "    <tr>\n",
       "      <th>2</th>\n",
       "      <td>60</td>\n",
       "      <td>69144</td>\n",
       "      <td>Associate</td>\n",
       "      <td>Employed</td>\n",
       "      <td>Male</td>\n",
       "      <td>3</td>\n",
       "      <td>Regular</td>\n",
       "      <td>Good</td>\n",
       "      <td>Moderate</td>\n",
       "      <td>Divorced</td>\n",
       "      <td>Own</td>\n",
       "      <td>Moderate</td>\n",
       "      <td>0</td>\n",
       "    </tr>\n",
       "    <tr>\n",
       "      <th>3</th>\n",
       "      <td>78</td>\n",
       "      <td>19025</td>\n",
       "      <td>High School</td>\n",
       "      <td>Unemployed</td>\n",
       "      <td>Female</td>\n",
       "      <td>4</td>\n",
       "      <td>Regular</td>\n",
       "      <td>Poor</td>\n",
       "      <td>Moderate</td>\n",
       "      <td>Single</td>\n",
       "      <td>Rent</td>\n",
       "      <td>Poor</td>\n",
       "      <td>0</td>\n",
       "    </tr>\n",
       "    <tr>\n",
       "      <th>4</th>\n",
       "      <td>38</td>\n",
       "      <td>58226</td>\n",
       "      <td>Bachelor</td>\n",
       "      <td>Employed</td>\n",
       "      <td>Non-Binary</td>\n",
       "      <td>2</td>\n",
       "      <td>Regular</td>\n",
       "      <td>Average</td>\n",
       "      <td>High</td>\n",
       "      <td>Married</td>\n",
       "      <td>Homeless</td>\n",
       "      <td>Good</td>\n",
       "      <td>0</td>\n",
       "    </tr>\n",
       "  </tbody>\n",
       "</table>\n",
       "</div>"
      ],
      "text/plain": [
       "   age  income education_level employment_status      gender  \\\n",
       "0   56   96515        Bachelor           Student  Non-Binary   \n",
       "1   32   31645          Master           Retired  Non-Binary   \n",
       "2   60   69144       Associate          Employed        Male   \n",
       "3   78   19025     High School        Unemployed      Female   \n",
       "4   38   58226        Bachelor          Employed  Non-Binary   \n",
       "\n",
       "   social_media_usage exercise_frequency sleep_quality social_support  \\\n",
       "0                   1            Regular       Average       Moderate   \n",
       "1                   0            Regular          Poor            Low   \n",
       "2                   3            Regular          Good       Moderate   \n",
       "3                   4            Regular          Poor       Moderate   \n",
       "4                   2            Regular       Average           High   \n",
       "\n",
       "  marital_status housing_situation access_to_mental_health_resources  \\\n",
       "0        Widowed              Rent                              Poor   \n",
       "1        Married          Homeless                          Moderate   \n",
       "2       Divorced               Own                          Moderate   \n",
       "3         Single              Rent                              Poor   \n",
       "4        Married          Homeless                              Good   \n",
       "\n",
       "   mental_health_status  \n",
       "0                     0  \n",
       "1                     0  \n",
       "2                     0  \n",
       "3                     0  \n",
       "4                     0  "
      ]
     },
     "execution_count": 54,
     "metadata": {},
     "output_type": "execute_result"
    }
   ],
   "source": [
    "import pandas as pd\n",
    "import numpy as np\n",
    "from sklearn import linear_model\n",
    "from sklearn.model_selection import train_test_split\n",
    "import matplotlib.pyplot as plt\n",
    "data=pd.read_csv(\"mental_health_expanded_data.csv\")\n",
    "data_multi=pd.read_csv(\"mental_health_expanded_data.csv\")\n",
    "#displaying the first five rows\n",
    "data_multi.head()\n"
   ]
  },
  {
   "cell_type": "code",
   "execution_count": 55,
   "id": "cb54571d-be9a-4123-98ba-d29653bfe35b",
   "metadata": {},
   "outputs": [],
   "source": [
    "#Reading data\n",
    "data=pd.read_csv(\"mental_health_expanded_data.csv\")\n"
   ]
  },
  {
   "cell_type": "code",
   "execution_count": 56,
   "id": "2ed36689-ae04-4c62-af73-09bbb1b5fab6",
   "metadata": {},
   "outputs": [
    {
     "data": {
      "text/html": [
       "<div>\n",
       "<style scoped>\n",
       "    .dataframe tbody tr th:only-of-type {\n",
       "        vertical-align: middle;\n",
       "    }\n",
       "\n",
       "    .dataframe tbody tr th {\n",
       "        vertical-align: top;\n",
       "    }\n",
       "\n",
       "    .dataframe thead th {\n",
       "        text-align: right;\n",
       "    }\n",
       "</style>\n",
       "<table border=\"1\" class=\"dataframe\">\n",
       "  <thead>\n",
       "    <tr style=\"text-align: right;\">\n",
       "      <th></th>\n",
       "      <th>age</th>\n",
       "      <th>income</th>\n",
       "      <th>education_level</th>\n",
       "      <th>employment_status</th>\n",
       "      <th>gender</th>\n",
       "      <th>social_media_usage</th>\n",
       "      <th>exercise_frequency</th>\n",
       "      <th>sleep_quality</th>\n",
       "      <th>social_support</th>\n",
       "      <th>marital_status</th>\n",
       "      <th>housing_situation</th>\n",
       "      <th>access_to_mental_health_resources</th>\n",
       "      <th>mental_health_status</th>\n",
       "    </tr>\n",
       "  </thead>\n",
       "  <tbody>\n",
       "    <tr>\n",
       "      <th>0</th>\n",
       "      <td>56</td>\n",
       "      <td>96515</td>\n",
       "      <td>Bachelor</td>\n",
       "      <td>Student</td>\n",
       "      <td>Non-Binary</td>\n",
       "      <td>1</td>\n",
       "      <td>Regular</td>\n",
       "      <td>Average</td>\n",
       "      <td>Moderate</td>\n",
       "      <td>Widowed</td>\n",
       "      <td>Rent</td>\n",
       "      <td>Poor</td>\n",
       "      <td>0</td>\n",
       "    </tr>\n",
       "    <tr>\n",
       "      <th>1</th>\n",
       "      <td>32</td>\n",
       "      <td>31645</td>\n",
       "      <td>Master</td>\n",
       "      <td>Retired</td>\n",
       "      <td>Non-Binary</td>\n",
       "      <td>0</td>\n",
       "      <td>Regular</td>\n",
       "      <td>Poor</td>\n",
       "      <td>Low</td>\n",
       "      <td>Married</td>\n",
       "      <td>Homeless</td>\n",
       "      <td>Moderate</td>\n",
       "      <td>0</td>\n",
       "    </tr>\n",
       "    <tr>\n",
       "      <th>2</th>\n",
       "      <td>60</td>\n",
       "      <td>69144</td>\n",
       "      <td>Associate</td>\n",
       "      <td>Employed</td>\n",
       "      <td>Male</td>\n",
       "      <td>3</td>\n",
       "      <td>Regular</td>\n",
       "      <td>Good</td>\n",
       "      <td>Moderate</td>\n",
       "      <td>Divorced</td>\n",
       "      <td>Own</td>\n",
       "      <td>Moderate</td>\n",
       "      <td>0</td>\n",
       "    </tr>\n",
       "    <tr>\n",
       "      <th>3</th>\n",
       "      <td>78</td>\n",
       "      <td>19025</td>\n",
       "      <td>High School</td>\n",
       "      <td>Unemployed</td>\n",
       "      <td>Female</td>\n",
       "      <td>4</td>\n",
       "      <td>Regular</td>\n",
       "      <td>Poor</td>\n",
       "      <td>Moderate</td>\n",
       "      <td>Single</td>\n",
       "      <td>Rent</td>\n",
       "      <td>Poor</td>\n",
       "      <td>0</td>\n",
       "    </tr>\n",
       "    <tr>\n",
       "      <th>4</th>\n",
       "      <td>38</td>\n",
       "      <td>58226</td>\n",
       "      <td>Bachelor</td>\n",
       "      <td>Employed</td>\n",
       "      <td>Non-Binary</td>\n",
       "      <td>2</td>\n",
       "      <td>Regular</td>\n",
       "      <td>Average</td>\n",
       "      <td>High</td>\n",
       "      <td>Married</td>\n",
       "      <td>Homeless</td>\n",
       "      <td>Good</td>\n",
       "      <td>0</td>\n",
       "    </tr>\n",
       "  </tbody>\n",
       "</table>\n",
       "</div>"
      ],
      "text/plain": [
       "   age  income education_level employment_status      gender  \\\n",
       "0   56   96515        Bachelor           Student  Non-Binary   \n",
       "1   32   31645          Master           Retired  Non-Binary   \n",
       "2   60   69144       Associate          Employed        Male   \n",
       "3   78   19025     High School        Unemployed      Female   \n",
       "4   38   58226        Bachelor          Employed  Non-Binary   \n",
       "\n",
       "   social_media_usage exercise_frequency sleep_quality social_support  \\\n",
       "0                   1            Regular       Average       Moderate   \n",
       "1                   0            Regular          Poor            Low   \n",
       "2                   3            Regular          Good       Moderate   \n",
       "3                   4            Regular          Poor       Moderate   \n",
       "4                   2            Regular       Average           High   \n",
       "\n",
       "  marital_status housing_situation access_to_mental_health_resources  \\\n",
       "0        Widowed              Rent                              Poor   \n",
       "1        Married          Homeless                          Moderate   \n",
       "2       Divorced               Own                          Moderate   \n",
       "3         Single              Rent                              Poor   \n",
       "4        Married          Homeless                              Good   \n",
       "\n",
       "   mental_health_status  \n",
       "0                     0  \n",
       "1                     0  \n",
       "2                     0  \n",
       "3                     0  \n",
       "4                     0  "
      ]
     },
     "execution_count": 56,
     "metadata": {},
     "output_type": "execute_result"
    }
   ],
   "source": [
    "data.head()"
   ]
  },
  {
   "cell_type": "code",
   "execution_count": 57,
   "id": "91fcf889-89e7-42f1-a3b4-1f14ad58ed4a",
   "metadata": {
    "scrolled": true
   },
   "outputs": [
    {
     "data": {
      "text/plain": [
       "age                                  0\n",
       "income                               0\n",
       "education_level                      0\n",
       "employment_status                    0\n",
       "gender                               0\n",
       "social_media_usage                   0\n",
       "exercise_frequency                   0\n",
       "sleep_quality                        0\n",
       "social_support                       0\n",
       "marital_status                       0\n",
       "housing_situation                    0\n",
       "access_to_mental_health_resources    0\n",
       "mental_health_status                 0\n",
       "dtype: int64"
      ]
     },
     "execution_count": 57,
     "metadata": {},
     "output_type": "execute_result"
    }
   ],
   "source": [
    "data.isnull().sum()"
   ]
  },
  {
   "cell_type": "code",
   "execution_count": 58,
   "id": "10c325e1-f3d5-4b16-90ca-747c11df3d60",
   "metadata": {},
   "outputs": [],
   "source": [
    "data.dropna(inplace=True)"
   ]
  },
  {
   "cell_type": "code",
   "execution_count": 59,
   "id": "df16f802-6481-4e80-8104-6ff499e998aa",
   "metadata": {},
   "outputs": [
    {
     "data": {
      "text/plain": [
       "(6820, 13)"
      ]
     },
     "execution_count": 59,
     "metadata": {},
     "output_type": "execute_result"
    }
   ],
   "source": [
    "data.shape\n"
   ]
  },
  {
   "cell_type": "code",
   "execution_count": 60,
   "id": "046fa2ce-af4e-4ed5-b131-82d940f2b7de",
   "metadata": {},
   "outputs": [
    {
     "data": {
      "text/plain": [
       "Index(['age', 'income', 'education_level', 'employment_status', 'gender',\n",
       "       'social_media_usage', 'exercise_frequency', 'sleep_quality',\n",
       "       'social_support', 'marital_status', 'housing_situation',\n",
       "       'access_to_mental_health_resources', 'mental_health_status'],\n",
       "      dtype='object')"
      ]
     },
     "execution_count": 60,
     "metadata": {},
     "output_type": "execute_result"
    }
   ],
   "source": [
    "data.columns"
   ]
  },
  {
   "cell_type": "code",
   "execution_count": 61,
   "id": "5b76ba5f-219a-451f-88ad-f5086a3ef38c",
   "metadata": {},
   "outputs": [
    {
     "data": {
      "text/html": [
       "<div>\n",
       "<style scoped>\n",
       "    .dataframe tbody tr th:only-of-type {\n",
       "        vertical-align: middle;\n",
       "    }\n",
       "\n",
       "    .dataframe tbody tr th {\n",
       "        vertical-align: top;\n",
       "    }\n",
       "\n",
       "    .dataframe thead th {\n",
       "        text-align: right;\n",
       "    }\n",
       "</style>\n",
       "<table border=\"1\" class=\"dataframe\">\n",
       "  <thead>\n",
       "    <tr style=\"text-align: right;\">\n",
       "      <th></th>\n",
       "      <th>age</th>\n",
       "      <th>income</th>\n",
       "      <th>education_level</th>\n",
       "      <th>employment_status</th>\n",
       "      <th>gender</th>\n",
       "      <th>social_media_usage</th>\n",
       "      <th>exercise_frequency</th>\n",
       "      <th>sleep_quality</th>\n",
       "      <th>social_support</th>\n",
       "      <th>marital_status</th>\n",
       "      <th>housing_situation</th>\n",
       "      <th>access_to_mental_health_resources</th>\n",
       "      <th>mental_health_status</th>\n",
       "    </tr>\n",
       "  </thead>\n",
       "  <tbody>\n",
       "    <tr>\n",
       "      <th>0</th>\n",
       "      <td>56</td>\n",
       "      <td>96515</td>\n",
       "      <td>Bachelor</td>\n",
       "      <td>Student</td>\n",
       "      <td>Non-Binary</td>\n",
       "      <td>1</td>\n",
       "      <td>Regular</td>\n",
       "      <td>Average</td>\n",
       "      <td>Moderate</td>\n",
       "      <td>Widowed</td>\n",
       "      <td>Rent</td>\n",
       "      <td>Poor</td>\n",
       "      <td>0</td>\n",
       "    </tr>\n",
       "    <tr>\n",
       "      <th>1</th>\n",
       "      <td>32</td>\n",
       "      <td>31645</td>\n",
       "      <td>Master</td>\n",
       "      <td>Retired</td>\n",
       "      <td>Non-Binary</td>\n",
       "      <td>0</td>\n",
       "      <td>Regular</td>\n",
       "      <td>Poor</td>\n",
       "      <td>Low</td>\n",
       "      <td>Married</td>\n",
       "      <td>Homeless</td>\n",
       "      <td>Moderate</td>\n",
       "      <td>0</td>\n",
       "    </tr>\n",
       "    <tr>\n",
       "      <th>2</th>\n",
       "      <td>60</td>\n",
       "      <td>69144</td>\n",
       "      <td>Associate</td>\n",
       "      <td>Employed</td>\n",
       "      <td>Male</td>\n",
       "      <td>3</td>\n",
       "      <td>Regular</td>\n",
       "      <td>Good</td>\n",
       "      <td>Moderate</td>\n",
       "      <td>Divorced</td>\n",
       "      <td>Own</td>\n",
       "      <td>Moderate</td>\n",
       "      <td>0</td>\n",
       "    </tr>\n",
       "    <tr>\n",
       "      <th>3</th>\n",
       "      <td>78</td>\n",
       "      <td>19025</td>\n",
       "      <td>High School</td>\n",
       "      <td>Unemployed</td>\n",
       "      <td>Female</td>\n",
       "      <td>4</td>\n",
       "      <td>Regular</td>\n",
       "      <td>Poor</td>\n",
       "      <td>Moderate</td>\n",
       "      <td>Single</td>\n",
       "      <td>Rent</td>\n",
       "      <td>Poor</td>\n",
       "      <td>0</td>\n",
       "    </tr>\n",
       "    <tr>\n",
       "      <th>4</th>\n",
       "      <td>38</td>\n",
       "      <td>58226</td>\n",
       "      <td>Bachelor</td>\n",
       "      <td>Employed</td>\n",
       "      <td>Non-Binary</td>\n",
       "      <td>2</td>\n",
       "      <td>Regular</td>\n",
       "      <td>Average</td>\n",
       "      <td>High</td>\n",
       "      <td>Married</td>\n",
       "      <td>Homeless</td>\n",
       "      <td>Good</td>\n",
       "      <td>0</td>\n",
       "    </tr>\n",
       "  </tbody>\n",
       "</table>\n",
       "</div>"
      ],
      "text/plain": [
       "   age  income education_level employment_status      gender  \\\n",
       "0   56   96515        Bachelor           Student  Non-Binary   \n",
       "1   32   31645          Master           Retired  Non-Binary   \n",
       "2   60   69144       Associate          Employed        Male   \n",
       "3   78   19025     High School        Unemployed      Female   \n",
       "4   38   58226        Bachelor          Employed  Non-Binary   \n",
       "\n",
       "   social_media_usage exercise_frequency sleep_quality social_support  \\\n",
       "0                   1            Regular       Average       Moderate   \n",
       "1                   0            Regular          Poor            Low   \n",
       "2                   3            Regular          Good       Moderate   \n",
       "3                   4            Regular          Poor       Moderate   \n",
       "4                   2            Regular       Average           High   \n",
       "\n",
       "  marital_status housing_situation access_to_mental_health_resources  \\\n",
       "0        Widowed              Rent                              Poor   \n",
       "1        Married          Homeless                          Moderate   \n",
       "2       Divorced               Own                          Moderate   \n",
       "3         Single              Rent                              Poor   \n",
       "4        Married          Homeless                              Good   \n",
       "\n",
       "   mental_health_status  \n",
       "0                     0  \n",
       "1                     0  \n",
       "2                     0  \n",
       "3                     0  \n",
       "4                     0  "
      ]
     },
     "execution_count": 61,
     "metadata": {},
     "output_type": "execute_result"
    }
   ],
   "source": [
    "new_data=data_multi[[\"age\",\"income\",\"education_level\",\"employment_status\",\"gender\",\n",
    "       \"social_media_usage\", \"exercise_frequency\",\"sleep_quality\",\n",
    "       \"social_support\",\"marital_status\",\"housing_situation\",\n",
    "       \"access_to_mental_health_resources\",\"mental_health_status\"]]\n",
    "new_data.head()"
   ]
  },
  {
   "cell_type": "code",
   "execution_count": 62,
   "id": "8123fadd-ffbb-4cec-b0d3-556b7029759f",
   "metadata": {},
   "outputs": [],
   "source": [
    "new_data.to_csv(\"mental_health_expanded_data.csv\", index=False)"
   ]
  },
  {
   "cell_type": "code",
   "execution_count": 63,
   "id": "ec2ae230-5554-4900-b354-ce34e8dee0a9",
   "metadata": {},
   "outputs": [
    {
     "data": {
      "text/plain": [
       "array(['Non-Binary', 'Male', 'Female'], dtype=object)"
      ]
     },
     "execution_count": 63,
     "metadata": {},
     "output_type": "execute_result"
    }
   ],
   "source": [
    "new_data[\"gender\"].unique()"
   ]
  },
  {
   "cell_type": "code",
   "execution_count": 64,
   "id": "a4f5480d-8d14-4987-b597-0e75a66dbb25",
   "metadata": {},
   "outputs": [
    {
     "data": {
      "text/plain": [
       "array(['Bachelor', 'Master', 'Associate', 'High School', 'Doctorate'],\n",
       "      dtype=object)"
      ]
     },
     "execution_count": 64,
     "metadata": {},
     "output_type": "execute_result"
    }
   ],
   "source": [
    "new_data[\"education_level\"].unique()"
   ]
  },
  {
   "cell_type": "code",
   "execution_count": 65,
   "id": "3dcd6500-e764-44ee-882d-63c7a19ff53a",
   "metadata": {},
   "outputs": [
    {
     "data": {
      "text/plain": [
       "array(['Moderate', 'Low', 'High'], dtype=object)"
      ]
     },
     "execution_count": 65,
     "metadata": {},
     "output_type": "execute_result"
    }
   ],
   "source": [
    "new_data[\"social_support\"].unique()"
   ]
  },
  {
   "cell_type": "code",
   "execution_count": 66,
   "id": "df04bd9f-3a95-4694-8b6b-f683cdf7a29c",
   "metadata": {},
   "outputs": [
    {
     "data": {
      "text/plain": [
       "array(['Widowed', 'Married', 'Divorced', 'Single'], dtype=object)"
      ]
     },
     "execution_count": 66,
     "metadata": {},
     "output_type": "execute_result"
    }
   ],
   "source": [
    "new_data[\"marital_status\"].unique()"
   ]
  },
  {
   "cell_type": "code",
   "execution_count": 67,
   "id": "ccd32ef2-06fd-4786-9d10-dd3ad28beff6",
   "metadata": {},
   "outputs": [
    {
     "data": {
      "text/plain": [
       "array(['Regular', 'Occasional'], dtype=object)"
      ]
     },
     "execution_count": 67,
     "metadata": {},
     "output_type": "execute_result"
    }
   ],
   "source": [
    "new_data[\"exercise_frequency\"].unique()"
   ]
  },
  {
   "cell_type": "code",
   "execution_count": 68,
   "id": "4f16c1cc-22bf-4a1f-9f1d-0e40e1693ea1",
   "metadata": {},
   "outputs": [
    {
     "data": {
      "text/plain": [
       "array(['Rent', 'Homeless', 'Own', 'Live with Family'], dtype=object)"
      ]
     },
     "execution_count": 68,
     "metadata": {},
     "output_type": "execute_result"
    }
   ],
   "source": [
    "new_data[\"housing_situation\"].unique()"
   ]
  },
  {
   "cell_type": "code",
   "execution_count": 69,
   "id": "edc2a0b9-be20-4579-975a-89064438de14",
   "metadata": {},
   "outputs": [
    {
     "data": {
      "text/plain": [
       "array(['Poor', 'Moderate', 'Good'], dtype=object)"
      ]
     },
     "execution_count": 69,
     "metadata": {},
     "output_type": "execute_result"
    }
   ],
   "source": [
    "new_data[\"access_to_mental_health_resources\"].unique()"
   ]
  },
  {
   "cell_type": "code",
   "execution_count": 70,
   "id": "d6e91160-3864-4f13-b448-41b5c630037c",
   "metadata": {},
   "outputs": [],
   "source": [
    "from sklearn.cluster import KMeans\n",
    "from sklearn.compose import ColumnTransformer\n",
    "from sklearn.preprocessing import StandardScaler, OneHotEncoder\n",
    "from sklearn.pipeline import Pipeline\n",
    "\n",
    "# Define categorical and numerical columns\n",
    "categorical_cols = ['education_level', 'employment_status', 'gender','exercise_frequency', 'sleep_quality',\n",
    "       'social_support', 'marital_status', 'housing_situation',\n",
    "       'access_to_mental_health_resources','diarrhea_status', 'residence', 'Sex', 'age_category', 'education', 'wealth_index']\n",
    "numerical_cols = ['age','income','mental_health_status','social_media_usage']\n",
    "\n",
    "# Create a ColumnTransformer for preprocessing\n",
    "preprocessor = ColumnTransformer(\n",
    "    transformers=[\n",
    "        ('num', StandardScaler(), numerical_cols),  # Standard scaling for numerical columns\n",
    "        ('cat', OneHotEncoder(), categorical_cols)  # One-hot encoding for categorical columns\n",
    "    ])"
   ]
  },
  {
   "cell_type": "code",
   "execution_count": 71,
   "id": "99898736-d9d6-4069-976d-7dba7ce9cbb9",
   "metadata": {},
   "outputs": [],
   "source": [
    "new_data[\"marital_status\"] = pd.factorize(new_data[\"marital_status\"])[0]"
   ]
  },
  {
   "cell_type": "code",
   "execution_count": 72,
   "id": "d39b3e02-a31f-414d-bfe9-3eeae7abe6f5",
   "metadata": {},
   "outputs": [],
   "source": [
    "new_data[\"gender\"] = pd.factorize(new_data[\"gender\"])[0]"
   ]
  },
  {
   "cell_type": "code",
   "execution_count": 73,
   "id": "543f1860-83a6-4f56-9b4b-b3508047ddd8",
   "metadata": {},
   "outputs": [],
   "source": [
    "new_data[\"access_to_mental_health_resources\"] = pd.factorize(new_data[\"access_to_mental_health_resources\"])[0]"
   ]
  },
  {
   "cell_type": "code",
   "execution_count": 74,
   "id": "f4821e49-609e-4760-b205-a9aaf621d0fe",
   "metadata": {},
   "outputs": [],
   "source": [
    "new_data[\"housing_situation\"] = pd.factorize(new_data[\"housing_situation\"])[0]"
   ]
  },
  {
   "cell_type": "code",
   "execution_count": 75,
   "id": "0974f81d-a4ec-455f-883e-42be7ea9eb57",
   "metadata": {},
   "outputs": [],
   "source": [
    "new_data[\"education_level\"] = pd.factorize(new_data[\"education_level\"])[0]"
   ]
  },
  {
   "cell_type": "code",
   "execution_count": 76,
   "id": "f3607669-3cda-4bf1-b200-04db8e566ea6",
   "metadata": {},
   "outputs": [],
   "source": [
    "new_data[\"employment_status\"] = pd.factorize(new_data[\"employment_status\"])[0]"
   ]
  },
  {
   "cell_type": "code",
   "execution_count": 77,
   "id": "27b94bc0-d74f-4519-87cc-944b9569d4cb",
   "metadata": {},
   "outputs": [],
   "source": [
    "new_data[\"sleep_quality\"] = pd.factorize(new_data[\"sleep_quality\"])[0]"
   ]
  },
  {
   "cell_type": "code",
   "execution_count": 80,
   "id": "460dd5d5-092c-4b7f-b68e-c4b189f3dfa8",
   "metadata": {},
   "outputs": [],
   "source": [
    "new_data[\"social_support\"] = pd.factorize(new_data[\"social_support\"])[0]"
   ]
  },
  {
   "cell_type": "code",
   "execution_count": 85,
   "id": "eb2a1566-364c-4e84-8598-b4793f5a3b3e",
   "metadata": {},
   "outputs": [],
   "source": [
    "new_data[\"exercise_frequency\"] = pd.factorize(new_data[\"exercise_frequency\"])[0]"
   ]
  },
  {
   "cell_type": "code",
   "execution_count": 86,
   "id": "11fd6fc8-cf66-4ada-b447-b5e27ec54da9",
   "metadata": {},
   "outputs": [
    {
     "data": {
      "text/html": [
       "<div>\n",
       "<style scoped>\n",
       "    .dataframe tbody tr th:only-of-type {\n",
       "        vertical-align: middle;\n",
       "    }\n",
       "\n",
       "    .dataframe tbody tr th {\n",
       "        vertical-align: top;\n",
       "    }\n",
       "\n",
       "    .dataframe thead th {\n",
       "        text-align: right;\n",
       "    }\n",
       "</style>\n",
       "<table border=\"1\" class=\"dataframe\">\n",
       "  <thead>\n",
       "    <tr style=\"text-align: right;\">\n",
       "      <th></th>\n",
       "      <th>age</th>\n",
       "      <th>income</th>\n",
       "      <th>education_level</th>\n",
       "      <th>employment_status</th>\n",
       "      <th>gender</th>\n",
       "      <th>social_media_usage</th>\n",
       "      <th>exercise_frequency</th>\n",
       "      <th>sleep_quality</th>\n",
       "      <th>social_support</th>\n",
       "      <th>marital_status</th>\n",
       "      <th>housing_situation</th>\n",
       "      <th>access_to_mental_health_resources</th>\n",
       "      <th>mental_health_status</th>\n",
       "      <th>social_supportsocial_support</th>\n",
       "    </tr>\n",
       "  </thead>\n",
       "  <tbody>\n",
       "    <tr>\n",
       "      <th>0</th>\n",
       "      <td>56</td>\n",
       "      <td>96515</td>\n",
       "      <td>0</td>\n",
       "      <td>0</td>\n",
       "      <td>0</td>\n",
       "      <td>1</td>\n",
       "      <td>0</td>\n",
       "      <td>0</td>\n",
       "      <td>0</td>\n",
       "      <td>0</td>\n",
       "      <td>0</td>\n",
       "      <td>0</td>\n",
       "      <td>0</td>\n",
       "      <td>0</td>\n",
       "    </tr>\n",
       "    <tr>\n",
       "      <th>1</th>\n",
       "      <td>32</td>\n",
       "      <td>31645</td>\n",
       "      <td>1</td>\n",
       "      <td>1</td>\n",
       "      <td>0</td>\n",
       "      <td>0</td>\n",
       "      <td>0</td>\n",
       "      <td>1</td>\n",
       "      <td>1</td>\n",
       "      <td>1</td>\n",
       "      <td>1</td>\n",
       "      <td>1</td>\n",
       "      <td>0</td>\n",
       "      <td>1</td>\n",
       "    </tr>\n",
       "    <tr>\n",
       "      <th>2</th>\n",
       "      <td>60</td>\n",
       "      <td>69144</td>\n",
       "      <td>2</td>\n",
       "      <td>2</td>\n",
       "      <td>1</td>\n",
       "      <td>3</td>\n",
       "      <td>0</td>\n",
       "      <td>2</td>\n",
       "      <td>0</td>\n",
       "      <td>2</td>\n",
       "      <td>2</td>\n",
       "      <td>1</td>\n",
       "      <td>0</td>\n",
       "      <td>0</td>\n",
       "    </tr>\n",
       "    <tr>\n",
       "      <th>3</th>\n",
       "      <td>78</td>\n",
       "      <td>19025</td>\n",
       "      <td>3</td>\n",
       "      <td>3</td>\n",
       "      <td>2</td>\n",
       "      <td>4</td>\n",
       "      <td>0</td>\n",
       "      <td>1</td>\n",
       "      <td>0</td>\n",
       "      <td>3</td>\n",
       "      <td>0</td>\n",
       "      <td>0</td>\n",
       "      <td>0</td>\n",
       "      <td>0</td>\n",
       "    </tr>\n",
       "    <tr>\n",
       "      <th>4</th>\n",
       "      <td>38</td>\n",
       "      <td>58226</td>\n",
       "      <td>0</td>\n",
       "      <td>2</td>\n",
       "      <td>0</td>\n",
       "      <td>2</td>\n",
       "      <td>0</td>\n",
       "      <td>0</td>\n",
       "      <td>2</td>\n",
       "      <td>1</td>\n",
       "      <td>1</td>\n",
       "      <td>2</td>\n",
       "      <td>0</td>\n",
       "      <td>2</td>\n",
       "    </tr>\n",
       "  </tbody>\n",
       "</table>\n",
       "</div>"
      ],
      "text/plain": [
       "   age  income  education_level  employment_status  gender  \\\n",
       "0   56   96515                0                  0       0   \n",
       "1   32   31645                1                  1       0   \n",
       "2   60   69144                2                  2       1   \n",
       "3   78   19025                3                  3       2   \n",
       "4   38   58226                0                  2       0   \n",
       "\n",
       "   social_media_usage  exercise_frequency  sleep_quality  social_support  \\\n",
       "0                   1                   0              0               0   \n",
       "1                   0                   0              1               1   \n",
       "2                   3                   0              2               0   \n",
       "3                   4                   0              1               0   \n",
       "4                   2                   0              0               2   \n",
       "\n",
       "   marital_status  housing_situation  access_to_mental_health_resources  \\\n",
       "0               0                  0                                  0   \n",
       "1               1                  1                                  1   \n",
       "2               2                  2                                  1   \n",
       "3               3                  0                                  0   \n",
       "4               1                  1                                  2   \n",
       "\n",
       "   mental_health_status  social_supportsocial_support  \n",
       "0                     0                             0  \n",
       "1                     0                             1  \n",
       "2                     0                             0  \n",
       "3                     0                             0  \n",
       "4                     0                             2  "
      ]
     },
     "execution_count": 86,
     "metadata": {},
     "output_type": "execute_result"
    }
   ],
   "source": [
    "new_data.head()"
   ]
  },
  {
   "cell_type": "code",
   "execution_count": 87,
   "id": "7f05bc67-f9bc-47d8-ba24-1ccfff51aa65",
   "metadata": {},
   "outputs": [
    {
     "data": {
      "text/html": [
       "<div>\n",
       "<style scoped>\n",
       "    .dataframe tbody tr th:only-of-type {\n",
       "        vertical-align: middle;\n",
       "    }\n",
       "\n",
       "    .dataframe tbody tr th {\n",
       "        vertical-align: top;\n",
       "    }\n",
       "\n",
       "    .dataframe thead th {\n",
       "        text-align: right;\n",
       "    }\n",
       "</style>\n",
       "<table border=\"1\" class=\"dataframe\">\n",
       "  <thead>\n",
       "    <tr style=\"text-align: right;\">\n",
       "      <th></th>\n",
       "      <th>age</th>\n",
       "      <th>income</th>\n",
       "      <th>education_level</th>\n",
       "      <th>employment_status</th>\n",
       "      <th>gender</th>\n",
       "      <th>social_media_usage</th>\n",
       "      <th>exercise_frequency</th>\n",
       "      <th>sleep_quality</th>\n",
       "      <th>social_support</th>\n",
       "      <th>marital_status</th>\n",
       "      <th>housing_situation</th>\n",
       "      <th>access_to_mental_health_resources</th>\n",
       "      <th>mental_health_status</th>\n",
       "      <th>social_supportsocial_support</th>\n",
       "    </tr>\n",
       "  </thead>\n",
       "  <tbody>\n",
       "    <tr>\n",
       "      <th>6815</th>\n",
       "      <td>55</td>\n",
       "      <td>73945</td>\n",
       "      <td>3</td>\n",
       "      <td>0</td>\n",
       "      <td>1</td>\n",
       "      <td>6</td>\n",
       "      <td>1</td>\n",
       "      <td>0</td>\n",
       "      <td>0</td>\n",
       "      <td>1</td>\n",
       "      <td>0</td>\n",
       "      <td>0</td>\n",
       "      <td>0</td>\n",
       "      <td>0</td>\n",
       "    </tr>\n",
       "    <tr>\n",
       "      <th>6816</th>\n",
       "      <td>60</td>\n",
       "      <td>20380</td>\n",
       "      <td>3</td>\n",
       "      <td>2</td>\n",
       "      <td>2</td>\n",
       "      <td>2</td>\n",
       "      <td>0</td>\n",
       "      <td>2</td>\n",
       "      <td>1</td>\n",
       "      <td>1</td>\n",
       "      <td>1</td>\n",
       "      <td>0</td>\n",
       "      <td>0</td>\n",
       "      <td>1</td>\n",
       "    </tr>\n",
       "    <tr>\n",
       "      <th>6817</th>\n",
       "      <td>36</td>\n",
       "      <td>65298</td>\n",
       "      <td>2</td>\n",
       "      <td>2</td>\n",
       "      <td>2</td>\n",
       "      <td>2</td>\n",
       "      <td>1</td>\n",
       "      <td>1</td>\n",
       "      <td>1</td>\n",
       "      <td>0</td>\n",
       "      <td>3</td>\n",
       "      <td>2</td>\n",
       "      <td>1</td>\n",
       "      <td>1</td>\n",
       "    </tr>\n",
       "    <tr>\n",
       "      <th>6818</th>\n",
       "      <td>53</td>\n",
       "      <td>95821</td>\n",
       "      <td>2</td>\n",
       "      <td>3</td>\n",
       "      <td>0</td>\n",
       "      <td>4</td>\n",
       "      <td>1</td>\n",
       "      <td>0</td>\n",
       "      <td>1</td>\n",
       "      <td>1</td>\n",
       "      <td>3</td>\n",
       "      <td>1</td>\n",
       "      <td>1</td>\n",
       "      <td>1</td>\n",
       "    </tr>\n",
       "    <tr>\n",
       "      <th>6819</th>\n",
       "      <td>50</td>\n",
       "      <td>46578</td>\n",
       "      <td>0</td>\n",
       "      <td>1</td>\n",
       "      <td>1</td>\n",
       "      <td>4</td>\n",
       "      <td>1</td>\n",
       "      <td>0</td>\n",
       "      <td>2</td>\n",
       "      <td>3</td>\n",
       "      <td>3</td>\n",
       "      <td>0</td>\n",
       "      <td>0</td>\n",
       "      <td>2</td>\n",
       "    </tr>\n",
       "  </tbody>\n",
       "</table>\n",
       "</div>"
      ],
      "text/plain": [
       "      age  income  education_level  employment_status  gender  \\\n",
       "6815   55   73945                3                  0       1   \n",
       "6816   60   20380                3                  2       2   \n",
       "6817   36   65298                2                  2       2   \n",
       "6818   53   95821                2                  3       0   \n",
       "6819   50   46578                0                  1       1   \n",
       "\n",
       "      social_media_usage  exercise_frequency  sleep_quality  social_support  \\\n",
       "6815                   6                   1              0               0   \n",
       "6816                   2                   0              2               1   \n",
       "6817                   2                   1              1               1   \n",
       "6818                   4                   1              0               1   \n",
       "6819                   4                   1              0               2   \n",
       "\n",
       "      marital_status  housing_situation  access_to_mental_health_resources  \\\n",
       "6815               1                  0                                  0   \n",
       "6816               1                  1                                  0   \n",
       "6817               0                  3                                  2   \n",
       "6818               1                  3                                  1   \n",
       "6819               3                  3                                  0   \n",
       "\n",
       "      mental_health_status  social_supportsocial_support  \n",
       "6815                     0                             0  \n",
       "6816                     0                             1  \n",
       "6817                     1                             1  \n",
       "6818                     1                             1  \n",
       "6819                     0                             2  "
      ]
     },
     "execution_count": 87,
     "metadata": {},
     "output_type": "execute_result"
    }
   ],
   "source": [
    "new_data.tail()"
   ]
  },
  {
   "cell_type": "code",
   "execution_count": null,
   "id": "ee160bfb-dc9d-4efd-9cbf-ab122c4a1f4e",
   "metadata": {},
   "outputs": [],
   "source": []
  }
 ],
 "metadata": {
  "kernelspec": {
   "display_name": "Python 3 (ipykernel)",
   "language": "python",
   "name": "python3"
  },
  "language_info": {
   "codemirror_mode": {
    "name": "ipython",
    "version": 3
   },
   "file_extension": ".py",
   "mimetype": "text/x-python",
   "name": "python",
   "nbconvert_exporter": "python",
   "pygments_lexer": "ipython3",
   "version": "3.11.7"
  }
 },
 "nbformat": 4,
 "nbformat_minor": 5
}
